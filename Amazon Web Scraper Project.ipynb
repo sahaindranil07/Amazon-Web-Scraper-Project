{
 "cells": [
  {
   "cell_type": "code",
   "execution_count": 70,
   "id": "00193f90",
   "metadata": {},
   "outputs": [],
   "source": [
    "# import libraries \n",
    "\n",
    "from bs4 import BeautifulSoup\n",
    "import requests\n",
    "import time\n",
    "import datetime\n",
    "\n",
    "import smtplib"
   ]
  },
  {
   "cell_type": "code",
   "execution_count": 164,
   "id": "bee1f63e",
   "metadata": {},
   "outputs": [
    {
     "name": "stdout",
     "output_type": "stream",
     "text": [
      "Title not found\n"
     ]
    }
   ],
   "source": [
    "\n",
    "URL = 'https://www.amazon.fr/HYDROPLANETE-Terre-Diatom%C3%A9e-Blanche-200g/dp/B077T1M65B/?_encoding=UTF8&pd_rd_w=0TARE&content-id=amzn1.sym.69ddbdfa-6f86-49d2-a878-e83873af1828%3Aamzn1.symc.fc11ad14-99c1-406b-aa77-051d0ba1aade&pf_rd_p=69ddbdfa-6f86-49d2-a878-e83873af1828&pf_rd_r=KD4TC5PG00ZY4NFKPMJ3&pd_rd_wg=spFio&pd_rd_r=fba53f90-7438-4c43-aea8-95927fe9b469&ref_=pd_hp_d_atf_ci_mcx_mr_ca_hp_atf_d&th=1'\n",
    "headers = {\n",
    "    \"User-Agent\": \"Mozilla/5.0 (Windows NT 10.0; Win64; x64) AppleWebKit/537.36 (KHTML, like Gecko) Chrome/125.0.0.0 Safari/537.36\"\n",
    "}\n",
    "\n",
    "page = requests.get(URL, headers=headers)\n",
    "\n",
    "soup = BeautifulSoup(page.content, \"html.parser\")\n",
    "\n",
    "title_element = soup.find(class_='a-like-normal')\n",
    "\n",
    "if title_element:\n",
    "    title = title_element.get_text().strip()\n",
    "    print(\"Title:\", title)\n",
    "else:\n",
    "    print(\"Title not found\")\n",
    "\n"
   ]
  },
  {
   "cell_type": "code",
   "execution_count": 101,
   "id": "0830fc8d",
   "metadata": {},
   "outputs": [
    {
     "name": "stdout",
     "output_type": "stream",
     "text": [
      "14,\n"
     ]
    }
   ],
   "source": [
    "URL = 'https://www.amazon.fr/HYDROPLANETE-Terre-Diatom%C3%A9e-Blanche-200g/dp/B077T1M65B/?_encoding=UTF8&pd_rd_w=0TARE&content-id=amzn1.sym.69ddbdfa-6f86-49d2-a878-e83873af1828%3Aamzn1.symc.fc11ad14-99c1-406b-aa77-051d0ba1aade&pf_rd_p=69ddbdfa-6f86-49d2-a878-e83873af1828&pf_rd_r=KD4TC5PG00ZY4NFKPMJ3&pd_rd_wg=spFio&pd_rd_r=fba53f90-7438-4c43-aea8-95927fe9b469&ref_=pd_hp_d_atf_ci_mcx_mr_ca_hp_atf_d&th=1'\n",
    "headers = {\n",
    "    \"User-Agent\": \"Mozilla/5.0 (Windows NT 10.0; Win64; x64) AppleWebKit/537.36 (KHTML, like Gecko) Chrome/125.0.0.0 Safari/537.36\"\n",
    "}\n",
    "\n",
    "page = requests.get(URL, headers=headers)\n",
    "\n",
    "soup = BeautifulSoup(page.content, \"html.parser\")\n",
    "\n",
    "price_element = soup.find(class_='a-price-whole')\n",
    "\n",
    "if price_element:\n",
    "    price = price_element.get_text().strip()\n",
    "    print( price)\n",
    "else:\n",
    "    print(\"Price not found\")\n"
   ]
  },
  {
   "cell_type": "code",
   "execution_count": 165,
   "id": "78dbc377",
   "metadata": {},
   "outputs": [
    {
     "name": "stdout",
     "output_type": "stream",
     "text": [
      "4,\n"
     ]
    }
   ],
   "source": [
    "price = price.strip()[1:]\n",
    "print(price)\n"
   ]
  },
  {
   "cell_type": "code",
   "execution_count": 166,
   "id": "b7faf8e6",
   "metadata": {},
   "outputs": [
    {
     "name": "stdout",
     "output_type": "stream",
     "text": [
      "2024-06-06\n"
     ]
    }
   ],
   "source": [
    "import datetime\n",
    "\n",
    "today = datetime.date.today()\n",
    "\n",
    "print(today)"
   ]
  },
  {
   "cell_type": "code",
   "execution_count": 172,
   "id": "3be93ff6",
   "metadata": {},
   "outputs": [],
   "source": [
    "# Create CSV and write headers and data into the file\n",
    "\n",
    "import csv \n",
    "\n",
    "header = ['Price', 'Date']\n",
    "data = [price, today]\n",
    "\n",
    "\n",
    "with open('AmazonWebScraperDataset.csv', 'w', newline='', encoding='UTF8') as f:\n",
    "    writer = csv.writer(f)\n",
    "    writer.writerow(header)\n",
    "    writer.writerow(data)"
   ]
  },
  {
   "cell_type": "code",
   "execution_count": 173,
   "id": "150f769a",
   "metadata": {},
   "outputs": [
    {
     "name": "stdout",
     "output_type": "stream",
     "text": [
      "  Price        Date\n",
      "0    4,  2024-06-06\n"
     ]
    }
   ],
   "source": [
    "import pandas as pd\n",
    "\n",
    "df = pd.read_csv(r'AmazonWebScraperDataset.csv')\n",
    "\n",
    "print(df)"
   ]
  },
  {
   "cell_type": "code",
   "execution_count": 174,
   "id": "c5d38487",
   "metadata": {},
   "outputs": [],
   "source": [
    "#Combine all of the above code into one function\n",
    "\n",
    "\n",
    "def check_price():\n",
    "    URL = 'https://www.amazon.fr/HYDROPLANETE-Terre-Diatom%C3%A9e-Blanche-200g/dp/B077T1M65B/?_encoding=UTF8&pd_rd_w=0TARE&content-id=amzn1.sym.69ddbdfa-6f86-49d2-a878-e83873af1828%3Aamzn1.symc.fc11ad14-99c1-406b-aa77-051d0ba1aade&pf_rd_p=69ddbdfa-6f86-49d2-a878-e83873af1828&pf_rd_r=KD4TC5PG00ZY4NFKPMJ3&pd_rd_wg=spFio&pd_rd_r=fba53f90-7438-4c43-aea8-95927fe9b469&ref_=pd_hp_d_atf_ci_mcx_mr_ca_hp_atf_d&th=1'\n",
    "    headers = {\n",
    "        \"User-Agent\": \"Mozilla/5.0 (Windows NT 10.0; Win64; x64) AppleWebKit/537.36 (KHTML, like Gecko) Chrome/125.0.0.0 Safari/537.36\"\n",
    "    }\n",
    "\n",
    "    page = requests.get(URL, headers=headers)\n",
    "\n",
    "    soup = BeautifulSoup(page.content, \"html.parser\")\n",
    "\n",
    "    price_element = soup.find(class_='a-price-whole')\n",
    "\n",
    "    if price_element:\n",
    "        price = price_element.get_text().strip()\n",
    "        print( price)\n",
    "    else:\n",
    "        print(\"Price not found\")\n",
    "\n",
    " \n",
    "\n",
    "    price = price.strip()[1:]\n",
    "    print(price)\n",
    "\n",
    "    import datetime\n",
    "\n",
    "    today = datetime.date.today()\n",
    "\n",
    "    print(today)\n",
    "    \n",
    "    import csv \n",
    "\n",
    "    header = [ 'Price', 'Date']\n",
    "    data = [ price, today]\n",
    "\n",
    "\n",
    "    with open('AmazonWebScraperDataset.csv', 'w', newline='', encoding='UTF8') as f:\n",
    "        writer = csv.writer(f)\n",
    "        writer.writerow(header)\n",
    "        writer.writerow(data)\n",
    "    "
   ]
  },
  {
   "cell_type": "code",
   "execution_count": null,
   "id": "e0f30958",
   "metadata": {},
   "outputs": [],
   "source": [
    "# Runs check_price after a set time and inputs data into your CSV\n",
    "\n",
    "while(True):\n",
    "    check_price()\n",
    "    time.sleep(86400)"
   ]
  },
  {
   "cell_type": "code",
   "execution_count": 179,
   "id": "315462d5",
   "metadata": {},
   "outputs": [
    {
     "name": "stdout",
     "output_type": "stream",
     "text": [
      "  Price        Date\n",
      "0    4,  2024-06-06\n"
     ]
    }
   ],
   "source": [
    "import pandas as pd\n",
    "\n",
    "df = pd.read_csv(r'AmazonWebScraperDataset.csv')\n",
    "\n",
    "print(df)"
   ]
  },
  {
   "cell_type": "code",
   "execution_count": 180,
   "id": "982e67d7",
   "metadata": {},
   "outputs": [],
   "source": [
    "# If uou want to try sending yourself an email (just for fun) when a price hits below a certain level you can try it\n",
    "# out with this script\n",
    "\n",
    "def send_mail():\n",
    "    server = smtplib.SMTP_SSL('smtp.gmail.com',465)\n",
    "    server.ehlo()\n",
    "    #server.starttls()\n",
    "    server.ehlo()\n",
    "    server.login('sahaindranil07@gmail.com','xxxxxxxxxxxxxx')\n",
    "    \n",
    "    subject = \"The Shirt you want is below $15! Now is your chance to buy!\"\n",
    "    body = \"Indra, This is the moment we have been waiting for. Now is your chance to pick up the shirt of your dreams. Don't mess it up! Link here: https://www.amazon.com/Funny-Data-Systems-Business-Analyst/dp/B07FNW9FGJ/ref=sr_1_3?dchild=1&keywords=data+analyst+tshirt&qid=1626655184&sr=8-3\"\n",
    "   \n",
    "    msg = f\"Subject: {subject}\\n\\n{body}\"\n",
    "    \n",
    "    server.sendmail(\n",
    "        'sahaindranil07@gmail.com',\n",
    "        msg\n",
    "     \n",
    "    )"
   ]
  }
 ],
 "metadata": {
  "kernelspec": {
   "display_name": "Python 3 (ipykernel)",
   "language": "python",
   "name": "python3"
  },
  "language_info": {
   "codemirror_mode": {
    "name": "ipython",
    "version": 3
   },
   "file_extension": ".py",
   "mimetype": "text/x-python",
   "name": "python",
   "nbconvert_exporter": "python",
   "pygments_lexer": "ipython3",
   "version": "3.9.13"
  }
 },
 "nbformat": 4,
 "nbformat_minor": 5
}
